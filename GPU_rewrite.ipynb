{
 "cells": [
  {
   "cell_type": "code",
   "execution_count": 54,
   "metadata": {},
   "outputs": [],
   "source": [
    "import pycuda.autoinit\n",
    "from pycuda import gpuarray\n",
    "from pycuda.elementwise import ElementwiseKernel"
   ]
  },
  {
   "cell_type": "code",
   "execution_count": 55,
   "metadata": {},
   "outputs": [],
   "source": [
    "from scipy.integrate import quad as integrate, trapz \n",
    "from scipy import interpolate\n",
    "from tqdm import tqdm\n",
    "import numpy as np\n",
    "import matplotlib.pyplot as plt\n"
   ]
  },
  {
   "cell_type": "code",
   "execution_count": 56,
   "metadata": {},
   "outputs": [],
   "source": [
    "lq = 3\n",
    "Num = 100_000 # количество генерируемых точек\n",
    "hxi = 0.001*np.pi # шаг генерации\n",
    "beta = 0.0276 # температурный множитель\n",
    "l = 2*np.pi # область генерации начального распределения\n",
    "n = int(l/hxi)\n",
    "phix = 0 # "
   ]
  },
  {
   "cell_type": "markdown",
   "metadata": {},
   "source": [
    "## Блок определения точек начального распределения"
   ]
  },
  {
   "cell_type": "markdown",
   "metadata": {},
   "source": [
    "# Блок начального распределения состояний (предподготовка)\n",
    "### вычисляем статсумму. не берем интеграл по бесконечному интервалу, потому что функция слишком быстро стремится к нулю, а встроенные методы пренебрегают пиком в центре интервала\n",
    "Речь о случае Phix = pi, когда статсумма очень маленькая. Тут используем интегрирование трапециями и оно дает результат, идентичный выводу в Mathematica"
   ]
  },
  {
   "cell_type": "code",
   "execution_count": 69,
   "metadata": {},
   "outputs": [],
   "source": [
    "LL = 10*np.pi # интервал, на котором производится интегрирование\n",
    "X = np.linspace(-LL/2, LL/2, 10_000)\n",
    "\n",
    "def fun(x): # функция распределения\n",
    "    return np.exp((np.cos(x)-1)/beta)*np.exp(-((x-phix)**2)/(2*lq*beta))\n",
    "part_func = trapz(fun(X), X)\n",
    "# print('Статсумма = ', part_func, 'в математике получили 6.39276*10^-20 при phix = Pi')"
   ]
  },
  {
   "cell_type": "code",
   "execution_count": 70,
   "metadata": {},
   "outputs": [],
   "source": [
    "xi = np.linspace(-np.pi + phix, np.pi + phix, n)\n",
    "# применяем определение функции распределения\n",
    "def prob(xx):\n",
    "    return integrate(lambda phi: coor_destr(phi), -np.pi, xx)[0]"
   ]
  },
  {
   "cell_type": "code",
   "execution_count": 71,
   "metadata": {},
   "outputs": [],
   "source": [
    "def U(x): \n",
    "    return (x-phix)**2/(2*lq) + 1 - np.cos(x)\n",
    "\n",
    "def coor_destr(x):\n",
    "    return np.exp(-U(x)/beta)/part_func\n",
    "\n",
    "xi = np.linspace(-np.pi + phix, np.pi + phix, n)\n",
    "# применяем определение функции распределения\n",
    "def prob(xx):\n",
    "    return integrate(lambda phi: coor_destr(phi), -np.inf, xx)[0]"
   ]
  },
  {
   "cell_type": "code",
   "execution_count": 72,
   "metadata": {},
   "outputs": [],
   "source": [
    "alpha = []\n",
    "for xx in xi:\n",
    "    alpha.append(prob(xx))\n",
    "\n",
    "inter_func = interpolate.interp1d(alpha, xi) # интерполирующая функция\n",
    "\n",
    "#plt.plot(alpha, inter_func(alpha))\n",
    "#plt.title('Обратная функция распределения')\n",
    "#plt.xlabel('F(x)')\n",
    "#plt.ylabel('x')\n",
    "#plt.show()\n",
    "# Функция распределения - вероятность того, что случайная величина X примет значение, \n",
    "# меньшее или равное х, где х — произвольное действительное число"
   ]
  },
  {
   "cell_type": "markdown",
   "metadata": {},
   "source": [
    "### Господа начальные состония собственной персоной"
   ]
  },
  {
   "cell_type": "code",
   "execution_count": 79,
   "metadata": {},
   "outputs": [],
   "source": [
    "np.random.seed(1997)\n",
    "random_points = np.random.random(Num) # Num случайныйх равномерно распределеных чисел [0,1]\n",
    "phi_points = inter_func(random_points) # значения phi c требуемым распределением\n",
    "p_points = np.random.normal(0, np.sqrt(beta), Num)\n",
    "# применяем свойство независимости распределений\n",
    "#all_points = np.column_stack((phi_points, p_points))"
   ]
  },
  {
   "cell_type": "code",
   "execution_count": 80,
   "metadata": {},
   "outputs": [
    {
     "data": {
      "image/png": "[encoded data removed]",
      "text/plain": [
       "<Figure size 720x432 with 1 Axes>"
      ]
     },
     "metadata": {
      "needs_background": "light"
     },
     "output_type": "display_data"
    }
   ],
   "source": [
    "plt.figure(figsize=(10,6))\n",
    "plt.scatter(phi_points, p_points, s = 0.5) # s - размер точек\n",
    "plt.xlim(-2*np.pi+phix, 3*np.pi+phix)\n",
    "plt.ylim(-1.5*np.pi, 1.5*np.pi)\n",
    "plt.title('Начальное распределение')\n",
    "plt.show()"
   ]
  },
  {
   "cell_type": "markdown",
   "metadata": {},
   "source": [
    "Раньше метод Рунге-Кутты выполнялся в векторном виде. Поскольку я только представляю как это сделать в ядре, придется выполнить параллельно два вычисления для разности фаз и импльса. \n",
    "\n",
    "$\\textbf{y}'= f(x, \\textbf{y})$\n",
    "\n",
    "$k_1 = f(x_n, \\textbf{y}_n)$\n",
    "\n",
    "$k_2 = f(x_n + h/2, \\textbf{y}_n + hk_1/2)$\n",
    "\n",
    "$k_3 = f(x_n + h/2, \\textbf{y}_n + hk_2/2)$\n",
    "\n",
    "$k_4 = f(x_n + h, \\textbf{y}_n + hk_3)$\n",
    "\n",
    "$\\textbf{y}_{n+1} = \\textbf{y}_{n} + h(k_1+2k_2+2k_3+k_4)/6$.\n",
    "\n",
    "Раньше $\\textbf{y}_{n+1} = (\\varphi, p)$, a $f(x, \\textbf{y})$ из системы уранений Гамильтониана $ = (p, -\\frac{\\varphi - \\varphi_{ex}(t)}{lq}-\\sin \\varphi - \\gamma p)$, где $\\varphi_{ex} = \\pi(\\tanh(\\frac{2\\pi t}{tau}-\\pi)+1)$.\n"
   ]
  },
  {
   "cell_type": "code",
   "execution_count": 75,
   "metadata": {},
   "outputs": [],
   "source": [
    "runge_kutta_ker = ElementwiseKernel(\n",
    "\"float *phi_points, float *p_points, int t_iter, float dt, int tau, int lq, float gamma\",\n",
    "\"\"\"\n",
    "const double PI = 3.141592653589793238463;\n",
    "int j;\n",
    "float k1_phi, k2_phi, k3_phi, k4_phi;\n",
    "float k1_p, k2_p, k3_p, k4_p;\n",
    "for(j = 0; j < t_iter; j++)\n",
    "    {\n",
    "    k1_phi = p_points[i];\n",
    "    k1_p = -sin(phi_points[i])-(phi_points[i]-PI*(tanh(2*PI*j*dt/tau-PI)+1))/lq - gamma*p_points[i];\n",
    "    k2_phi = p_points[i] + dt*k1_p/2;\n",
    "    k2_p = -sin(phi_points[i] + dt*k1_phi/2)-(phi_points[i] + dt*k1_phi/2-PI*(tanh(2*PI*(j*dt+dt/2)/tau-PI)+1))/lq - gamma*(p_points[i] + dt*k1_p/2);\n",
    "    k3_phi = p_points[i] + dt*k2_p/2;\n",
    "    k3_p = -sin(phi_points[i] + dt*k2_phi/2)-(phi_points[i] + dt*k2_phi/2-PI*(tanh(2*PI*(j*dt+dt/2)/tau-PI)+1))/lq - gamma*(p_points[i] + dt*k2_p/2);\n",
    "    k4_phi = p_points[i] + dt*k3_p;\n",
    "    phi_points[i]  += dt*(k1_phi+2*k2_phi+2*k3_phi+k4_phi)/6;\n",
    "    k4_p = -sin(phi_points[i] + dt*k3_phi)-(phi_points[i] + dt*k3_phi-PI*(tanh(2*PI*(j*dt+dt)/tau-PI)+1))/lq - gamma*(p_points[i] + dt*k3_p);\n",
    "    p_points[i] += dt*(k1_p+2*k2_p+2*k3_p+k4_p)/6;\n",
    "    } \n",
    "\"\"\",\n",
    "\"runge_kutta_ker\")"
   ]
  },
  {
   "cell_type": "code",
   "execution_count": 81,
   "metadata": {},
   "outputs": [],
   "source": [
    "runge_kutta_ker = ElementwiseKernel(\n",
    "\"float *phi_points, float *p_points, int t_iter, float dt, int tau, int lq, float gamma\",\n",
    "\"\"\"\n",
    "int j;\n",
    "float k1_phi, k2_phi, k3_phi, k4_phi;\n",
    "float k1_p, k2_p, k3_p, k4_p;\n",
    "for(j = 0; j < t_iter; j++)\n",
    "    {\n",
    "    k1_phi = p_points[i];\n",
    "    k1_p = -sin(phi_points[i])-phi_points[i]/lq;\n",
    "    k2_phi = p_points[i] + dt*k1_p/2;\n",
    "    k2_p = -sin(phi_points[i] + dt*k1_phi/2)-(phi_points[i] + dt*k1_phi/2)/lq;\n",
    "    k3_phi = p_points[i] + dt*k2_p/2;\n",
    "    k3_p = -sin(phi_points[i] + dt*k2_phi/2)-(phi_points[i] + dt*k2_phi/2)/lq;\n",
    "    k4_phi = p_points[i] + dt*k3_p;\n",
    "    phi_points[i] =+ dt*(k1_phi+2*k2_phi+2*k3_phi+k4_phi)/6;\n",
    "    k4_p = -sin(phi_points[i] + dt*k3_phi)-(phi_points[i] + dt*k3_phi)/lq;\n",
    "    p_points[i] =+ dt*(k1_p+2*k2_p+2*k3_p+k4_p)/6;\n",
    "    } \n",
    "\"\"\",\n",
    "\"runge_kutta_ker\")"
   ]
  },
  {
   "cell_type": "code",
   "execution_count": 82,
   "metadata": {},
   "outputs": [],
   "source": [
    "gamma = 0. # коэффициент затухания\n",
    "tau = 1 # характерное время переключения\n",
    "T = 1 # полный интервал времени\n",
    "dt = 0.01 # шаг по времени\n",
    "t = np.linspace(0,T, int(T/dt))\n",
    "t_iter = int(T/dt)"
   ]
  },
  {
   "cell_type": "code",
   "execution_count": 83,
   "metadata": {},
   "outputs": [
    {
     "name": "stderr",
     "output_type": "stream",
     "text": [
      "C:\\Users\\Gorchavkina\\anaconda3\\lib\\site-packages\\pycuda\\elementwise.py:75: UserWarning: The CUDA compiler succeeded, but said the following:\n",
      "kernel.cu\r\n",
      "\n",
      "  options=options, keep=keep)\n"
     ]
    }
   ],
   "source": [
    "# перераспределяем начальные значения \n",
    "phi_points_gpu = gpuarray.to_gpu(phi_points)\n",
    "p_points_gpu = gpuarray.to_gpu(phi_points)\n",
    "runge_kutta_ker(phi_points_gpu, p_points_gpu, np.int32(t_iter), np.float32(dt), np.int32(tau), np.int32(lq), np.float32(gamma))\n",
    "phi_points = phi_points_gpu.get()\n",
    "p_points = p_points_gpu.get()"
   ]
  },
  {
   "cell_type": "code",
   "execution_count": 84,
   "metadata": {},
   "outputs": [
    {
     "data": {
      "image/png": "[encoded data removed]",
      "text/plain": [
       "<Figure size 720x288 with 1 Axes>"
      ]
     },
     "metadata": {
      "needs_background": "light"
     },
     "output_type": "display_data"
    }
   ],
   "source": [
    "plt.figure(figsize=(10,4))\n",
    "plt.scatter(phi_points, p_points, s = 0.5) # s - размер точек \n",
    "plt.title('Конечное распределение') \n",
    "plt.show()"
   ]
  },
  {
   "cell_type": "code",
   "execution_count": null,
   "metadata": {},
   "outputs": [],
   "source": []
  },
  {
   "cell_type": "code",
   "execution_count": null,
   "metadata": {},
   "outputs": [],
   "source": []
  }
 ],
 "metadata": {
  "kernelspec": {
   "display_name": "Python 3",
   "language": "python",
   "name": "python3"
  },
  "language_info": {
   "codemirror_mode": {
    "name": "ipython",
    "version": 3
   },
   "file_extension": ".py",
   "mimetype": "text/x-python",
   "name": "python",
   "nbconvert_exporter": "python",
   "pygments_lexer": "ipython3",
   "version": "3.7.6"
  }
 },
 "nbformat": 4,
 "nbformat_minor": 4
}
