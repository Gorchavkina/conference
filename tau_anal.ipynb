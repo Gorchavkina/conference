{
 "cells": [
  {
   "cell_type": "code",
   "execution_count": 2,
   "metadata": {},
   "outputs": [],
   "source": [
    "from scipy.integrate import quad as integrate, trapz \n",
    "from scipy import interpolate\n",
    "from tqdm import tqdm\n",
    "import numpy as np\n",
    "import matplotlib.pyplot as plt"
   ]
  },
  {
   "cell_type": "markdown",
   "metadata": {},
   "source": [
    "## 1. Зависимости среднего значения разности фаз и ее стандартного отклонения на всем промежутке времени для разных значений затухания и фиксированного значения времени переключения. \n",
    "### Ожидание: показать как влияе затухание на \"определенность\" тока"
   ]
  },
  {
   "cell_type": "code",
   "execution_count": 3,
   "metadata": {},
   "outputs": [],
   "source": [
    "lq = 3\n",
    "Num = 100_000 # количество генерируемых точек\n",
    "hxi = 0.01*np.pi # шаг генерации\n",
    "beta = 0.0276 # температурный делитель\n",
    "l = 2*np.pi # область генерации начального распределения\n",
    "n = int(l/hxi)\n",
    "phix = 0 # "
   ]
  },
  {
   "cell_type": "code",
   "execution_count": 4,
   "metadata": {},
   "outputs": [],
   "source": [
    "LL = 10*np.pi # интервал, на котором производится интегрирование\n",
    "X = np.linspace(-LL/2, LL/2, 10_000)\n",
    "\n",
    "def fun(x): # функция распределения\n",
    "    return np.exp((np.cos(x)-1)/beta)*np.exp(-((x-phix)**2)/(2*lq*beta))\n",
    "part_func = trapz(fun(X), X)\n",
    "# print('Статсумма = ', part_func, 'в математике получили 6.39276*10^-20 при phix = Pi')\n",
    "\n",
    "def U(x): \n",
    "    return (x-phix)**2/(2*lq) + 1 - np.cos(x)\n",
    "\n",
    "def coor_destr(x):\n",
    "    return np.exp(-U(x)/beta)/part_func\n",
    "\n",
    "xi = np.linspace(-np.pi + phix, np.pi + phix, n)\n",
    "# применяем определение функции распределения\n",
    "def prob(xx):\n",
    "    return integrate(lambda phi: coor_destr(phi), -np.inf, xx)[0]\n",
    "\n",
    "alpha = []\n",
    "for xx in xi:\n",
    "    alpha.append(prob(xx))\n",
    "\n",
    "inter_func = interpolate.interp1d(alpha, xi)\n",
    "\n",
    "def phixx(t): # функция именения параметра управления\n",
    "    return np.pi*(np.tanh(2*np.pi*t/tau - np.pi)+1) \n",
    "    \n",
    "def H(t, phi, p):\n",
    "    return p**2/2 + (phi-phixx(t))**2/(2*lq) + 1 - np.cos(phi)\n",
    "\n",
    "def F(t, phi, p):\n",
    "    return p, -np.sin(phi) - (phi - phix - np.pi*(np.tanh(2*np.pi*t/tau - np.pi)+1))/lq - gamma*p"
   ]
  },
  {
   "cell_type": "code",
   "execution_count": 5,
   "metadata": {},
   "outputs": [],
   "source": [
    "# параметры\n",
    "gamma = 0. # коэффициент затухания\n",
    "l_tau = np.linspace(0.01, 25.01, 26) # равномерный список \n",
    "list_tau = [(lambda i: i*i)(i) for i in l_tau] # значения tau c более высокой плотностью у нуля\n",
    "T = 150 # полный интервал времени\n",
    "dt = 0.01 # шаг по времени"
   ]
  },
  {
   "cell_type": "code",
   "execution_count": 6,
   "metadata": {},
   "outputs": [
    {
     "name": "stdout",
     "output_type": "stream",
     "text": [
      "Равномерный список: l_tau [1.000e-02 1.010e+00 2.010e+00 3.010e+00 4.010e+00 5.010e+00 6.010e+00\n",
      " 7.010e+00 8.010e+00 9.010e+00 1.001e+01 1.101e+01 1.201e+01 1.301e+01\n",
      " 1.401e+01 1.501e+01 1.601e+01 1.701e+01 1.801e+01 1.901e+01 2.001e+01\n",
      " 2.101e+01 2.201e+01 2.301e+01 2.401e+01 2.501e+01]\n",
      "l_tau^2:  [0.0001, 1.0201, 4.040099999999999, 9.060099999999998, 16.080099999999998, 25.100099999999998, 36.1201, 49.1401, 64.1601, 81.1801, 100.20009999999999, 121.2201, 144.24009999999998, 169.2601, 196.2801, 225.3001, 256.3201, 289.34010000000006, 324.36010000000005, 361.3801000000001, 400.40010000000007, 441.42010000000005, 484.4401000000001, 529.4601000000001, 576.4801000000001, 625.5001000000001]\n"
     ]
    },
    {
     "data": {
      "image/png": "[encoded data removed]",
      "text/plain": [
       "<Figure size 432x288 with 1 Axes>"
      ]
     },
     "metadata": {
      "needs_background": "light"
     },
     "output_type": "display_data"
    }
   ],
   "source": [
    "# tau с более высокой плотностью у нуля\n",
    "print(\"Равномерный список: l_tau\", l_tau)\n",
    "print(\"l_tau^2: \", list_tau)\n",
    "plt.plot(list_tau)\n",
    "plt.show()"
   ]
  },
  {
   "cell_type": "code",
   "execution_count": 6,
   "metadata": {},
   "outputs": [
    {
     "name": "stderr",
     "output_type": "stream",
     "text": [
      "100%|███████████████████████████████████████████████████████████████████████████████| 26/26 [1:16:04<00:00, 175.56s/it]\n"
     ]
    }
   ],
   "source": [
    "mean_energy = []\n",
    "std_energy = []\n",
    "\n",
    "for tau in tqdm(list_tau):\n",
    "    T = tau\n",
    "    t = np.linspace(0, T, int(T/dt))\n",
    "    np.random.seed(1997)\n",
    "    random_points = np.random.random(Num) # Num случайныйх равномерно распределеных чисел [0,1]\n",
    "    phi_points = inter_func(random_points) # значения phi c требуемым распределением\n",
    "    p_points = np.random.normal(0, np.sqrt(beta), Num)\n",
    "    \n",
    "    for it in t:\n",
    "        k1 = F(it, phi_points, p_points)\n",
    "        k2 = F(it+dt/2, phi_points + dt*k1[0]/2, p_points + dt*k1[1]/2)\n",
    "        k3 = F(it+dt/2, phi_points + dt*k2[0]/2, p_points + dt*k2[1]/2)\n",
    "        k4 = F(it+dt, phi_points + dt*k3[0], p_points + dt*k3[1])\n",
    "        phi_points = phi_points + dt*(k1[0]+2*k2[0]+2*k3[0]+k4[0])/6\n",
    "        p_points = p_points + dt*(k1[1]+2*k2[1]+2*k3[1]+k4[1])/6\n",
    "    \n",
    "    mean_energy.append(np.mean(H(T, phi_points, p_points)))\n",
    "    std_energy.append(np.std(H(T, phi_points, p_points)))"
   ]
  },
  {
   "cell_type": "code",
   "execution_count": 7,
   "metadata": {},
   "outputs": [
    {
     "data": {
      "image/png": "[encoded data removed]",
      "text/plain": [
       "<Figure size 432x288 with 1 Axes>"
      ]
     },
     "metadata": {
      "needs_background": "light"
     },
     "output_type": "display_data"
    }
   ],
   "source": [
    "plt.plot(list_tau, mean_energy)\n",
    "plt.xlabel('tau')\n",
    "plt.ylabel('<E>')\n",
    "plt.show()\n",
    "\n",
    "# 1. сделать подпись к графику\n",
    "# 2. как объяснить наличие этой ступеньки???"
   ]
  },
  {
   "cell_type": "code",
   "execution_count": 8,
   "metadata": {},
   "outputs": [
    {
     "data": {
      "image/png": "[encoded data removed]",
      "text/plain": [
       "<Figure size 432x288 with 1 Axes>"
      ]
     },
     "metadata": {
      "needs_background": "light"
     },
     "output_type": "display_data"
    }
   ],
   "source": [
    "plt.plot(list_tau, mean_energy,'o')\n",
    "plt.xlabel('tau')\n",
    "plt.ylabel('<E>')\n",
    "plt.show()"
   ]
  },
  {
   "cell_type": "markdown",
   "metadata": {},
   "source": [
    "## Исследуем \"ступеньку\" на интервале tau = (0,1)"
   ]
  },
  {
   "cell_type": "code",
   "execution_count": 28,
   "metadata": {},
   "outputs": [],
   "source": [
    "ll_tau = np.linspace(0.001, 1, 51)"
   ]
  },
  {
   "cell_type": "code",
   "execution_count": 29,
   "metadata": {},
   "outputs": [
    {
     "data": {
      "text/plain": [
       "array([0.001  , 0.02098, 0.04096, 0.06094, 0.08092, 0.1009 , 0.12088,\n",
       "       0.14086, 0.16084, 0.18082, 0.2008 , 0.22078, 0.24076, 0.26074,\n",
       "       0.28072, 0.3007 , 0.32068, 0.34066, 0.36064, 0.38062, 0.4006 ,\n",
       "       0.42058, 0.44056, 0.46054, 0.48052, 0.5005 , 0.52048, 0.54046,\n",
       "       0.56044, 0.58042, 0.6004 , 0.62038, 0.64036, 0.66034, 0.68032,\n",
       "       0.7003 , 0.72028, 0.74026, 0.76024, 0.78022, 0.8002 , 0.82018,\n",
       "       0.84016, 0.86014, 0.88012, 0.9001 , 0.92008, 0.94006, 0.96004,\n",
       "       0.98002, 1.     ])"
      ]
     },
     "execution_count": 29,
     "metadata": {},
     "output_type": "execute_result"
    }
   ],
   "source": [
    "ll_tau"
   ]
  },
  {
   "cell_type": "code",
   "execution_count": 30,
   "metadata": {},
   "outputs": [
    {
     "name": "stderr",
     "output_type": "stream",
     "text": [
      "100%|██████████████████████████████████████████████████████████████████████████████████| 51/51 [01:57<00:00,  2.30s/it]\n"
     ]
    }
   ],
   "source": [
    "gamma = 0. # коэффициент затухания\n",
    "l_tau = np.linspace(0.01, 25.01, 26) # равномерный список \n",
    "T = 150 # полный интервал времени\n",
    "dt = 0.005 # шаг по времени\n",
    "\n",
    "mean_energy = []\n",
    "std_energy = []\n",
    "\n",
    "for tau in tqdm(ll_tau):\n",
    "    T = tau\n",
    "    t = np.linspace(0, T, int(T/dt))\n",
    "    np.random.seed(1997)\n",
    "    random_points = np.random.random(Num) # Num случайныйх равномерно распределеных чисел [0,1]\n",
    "    phi_points = inter_func(random_points) # значения phi c требуемым распределением\n",
    "    p_points = np.random.normal(0, np.sqrt(beta), Num)\n",
    "    \n",
    "    for it in t:\n",
    "        k1 = F(it, phi_points, p_points)\n",
    "        k2 = F(it+dt/2, phi_points + dt*k1[0]/2, p_points + dt*k1[1]/2)\n",
    "        k3 = F(it+dt/2, phi_points + dt*k2[0]/2, p_points + dt*k2[1]/2)\n",
    "        k4 = F(it+dt, phi_points + dt*k3[0], p_points + dt*k3[1])\n",
    "        phi_points = phi_points + dt*(k1[0]+2*k2[0]+2*k3[0]+k4[0])/6\n",
    "        p_points = p_points + dt*(k1[1]+2*k2[1]+2*k3[1]+k4[1])/6\n",
    "    \n",
    "    mean_energy.append(np.mean(H(T, phi_points, p_points)))\n",
    "    std_energy.append(np.std(H(T, phi_points, p_points)))"
   ]
  },
  {
   "cell_type": "code",
   "execution_count": 31,
   "metadata": {},
   "outputs": [
    {
     "data": {
      "image/png": "[encoded data removed]",
      "text/plain": [
       "<Figure size 432x288 with 1 Axes>"
      ]
     },
     "metadata": {
      "needs_background": "light"
     },
     "output_type": "display_data"
    }
   ],
   "source": [
    "plt.plot(ll_tau, mean_energy,'o')\n",
    "plt.plot(ll_tau, mean_energy,'o')\n",
    "plt.xlabel('tau')\n",
    "plt.ylabel('<E>')\n",
    "plt.title('Средняя энергия от времени переключения tau')\n",
    "plt.show()\n",
    "\n",
    "# 1. сделать подпись к графику\n",
    "# 2. как объяснить наличие этой ступеньки???"
   ]
  },
  {
   "cell_type": "code",
   "execution_count": 38,
   "metadata": {},
   "outputs": [
    {
     "data": {
      "image/png": "[encoded data removed]",
      "text/plain": [
       "<Figure size 432x288 with 1 Axes>"
      ]
     },
     "metadata": {
      "needs_background": "light"
     },
     "output_type": "display_data"
    }
   ],
   "source": [
    "plt.plot(ll_tau, mean_energy,'o')\n",
    "plt.errorbar(ll_tau,mean_energy, yerr = std_energy)\n",
    "plt.xlabel('tau')\n",
    "plt.ylabel('<E>')\n",
    "plt.ylim(0, 7)\n",
    "plt.title('Средняя энергия от времени переключения tau')\n",
    "plt.show()\n",
    "\n",
    "# 1. сделать подпись к графику\n",
    "# 2. как объяснить наличие этой ступеньки???"
   ]
  },
  {
   "cell_type": "markdown",
   "metadata": {},
   "source": [
    "## ?????\n",
    "Метод РК четвертого порядка точности. При dt = 0.01 это примерно $10^{-8}. Дает ли это право использовать tau < dt?\n",
    "Я думаю, что не дает, поэтому выше сделаю шаг меньше tau_min (dt_new = 0.005). "
   ]
  },
  {
   "cell_type": "markdown",
   "metadata": {},
   "source": [
    "## Вывод: единичного интервала оказалось слишком мало. Примечательно, что \"ступенька\" сохранилась после уменьшения шага, хотя в более маленьком масштабе она больше похожа на отрицательныю ветку параболы"
   ]
  },
  {
   "cell_type": "markdown",
   "metadata": {},
   "source": [
    "## tau = (0.005, 2)"
   ]
  },
  {
   "cell_type": "code",
   "execution_count": 47,
   "metadata": {},
   "outputs": [
    {
     "data": {
      "text/plain": [
       "array([0.02  , 0.0596, 0.0992, 0.1388, 0.1784, 0.218 , 0.2576, 0.2972,\n",
       "       0.3368, 0.3764, 0.416 , 0.4556, 0.4952, 0.5348, 0.5744, 0.614 ,\n",
       "       0.6536, 0.6932, 0.7328, 0.7724, 0.812 , 0.8516, 0.8912, 0.9308,\n",
       "       0.9704, 1.01  , 1.0496, 1.0892, 1.1288, 1.1684, 1.208 , 1.2476,\n",
       "       1.2872, 1.3268, 1.3664, 1.406 , 1.4456, 1.4852, 1.5248, 1.5644,\n",
       "       1.604 , 1.6436, 1.6832, 1.7228, 1.7624, 1.802 , 1.8416, 1.8812,\n",
       "       1.9208, 1.9604, 2.    ])"
      ]
     },
     "execution_count": 47,
     "metadata": {},
     "output_type": "execute_result"
    }
   ],
   "source": [
    "lll_tau = np.linspace(0.02, 2, 51)\n",
    "lll_tau"
   ]
  },
  {
   "cell_type": "code",
   "execution_count": 48,
   "metadata": {},
   "outputs": [
    {
     "name": "stderr",
     "output_type": "stream",
     "text": [
      "100%|██████████████████████████████████████████████████████████████████████████████████| 26/26 [30:01<00:00, 69.30s/it]\n"
     ]
    }
   ],
   "source": [
    "gamma = 0. # коэффициент затухания\n",
    "lll_tau = np.linspace(0.01, 25.01, 26) # равномерный список \n",
    "T = 150 # полный интервал времени\n",
    "dt = 0.005 # шаг по времени\n",
    "\n",
    "mean_energy = []\n",
    "std_energy = []\n",
    "\n",
    "for tau in tqdm(lll_tau):\n",
    "    T = tau\n",
    "    t = np.linspace(0, T, int(T/dt))\n",
    "    np.random.seed(1997)\n",
    "    random_points = np.random.random(Num) # Num случайныйх равномерно распределеных чисел [0,1]\n",
    "    phi_points = inter_func(random_points) # значения phi c требуемым распределением\n",
    "    p_points = np.random.normal(0, np.sqrt(beta), Num)\n",
    "    \n",
    "    for it in t:\n",
    "        k1 = F(it, phi_points, p_points)\n",
    "        k2 = F(it+dt/2, phi_points + dt*k1[0]/2, p_points + dt*k1[1]/2)\n",
    "        k3 = F(it+dt/2, phi_points + dt*k2[0]/2, p_points + dt*k2[1]/2)\n",
    "        k4 = F(it+dt, phi_points + dt*k3[0], p_points + dt*k3[1])\n",
    "        phi_points = phi_points + dt*(k1[0]+2*k2[0]+2*k3[0]+k4[0])/6\n",
    "        p_points = p_points + dt*(k1[1]+2*k2[1]+2*k3[1]+k4[1])/6\n",
    "    \n",
    "    mean_energy.append(np.mean(H(T, phi_points, p_points)))\n",
    "    std_energy.append(np.std(H(T, phi_points, p_points)))"
   ]
  },
  {
   "cell_type": "code",
   "execution_count": 51,
   "metadata": {},
   "outputs": [
    {
     "data": {
      "image/png": "[encoded data removed]",
      "text/plain": [
       "<Figure size 432x288 with 1 Axes>"
      ]
     },
     "metadata": {
      "needs_background": "light"
     },
     "output_type": "display_data"
    }
   ],
   "source": [
    "plt.plot(lll_tau, mean_energy,'o')\n",
    "plt.plot(lll_tau, mean_energy,'o')\n",
    "plt.xlabel('tau')\n",
    "plt.ylabel('<E>')\n",
    "plt.title('На увеличенном масштабе без std')\n",
    "plt.show()"
   ]
  },
  {
   "cell_type": "code",
   "execution_count": 52,
   "metadata": {},
   "outputs": [
    {
     "data": {
      "image/png": "[encoded data removed]",
      "text/plain": [
       "<Figure size 432x288 with 1 Axes>"
      ]
     },
     "metadata": {
      "needs_background": "light"
     },
     "output_type": "display_data"
    }
   ],
   "source": [
    "plt.plot(lll_tau, mean_energy,'o')\n",
    "plt.errorbar(lll_tau,mean_energy, yerr = std_energy)\n",
    "plt.xlabel('tau')\n",
    "plt.ylabel('<E>')\n",
    "plt.ylim(0, 7)\n",
    "plt.title('На большом масштабе с std')\n",
    "plt.show()\n",
    "\n",
    "# 1. сделать подпись к графику\n",
    "# 2. как объяснить наличие этой ступеньки???"
   ]
  },
  {
   "cell_type": "code",
   "execution_count": null,
   "metadata": {},
   "outputs": [],
   "source": []
  }
 ],
 "metadata": {
  "kernelspec": {
   "display_name": "Python 3",
   "language": "python",
   "name": "python3"
  },
  "language_info": {
   "codemirror_mode": {
    "name": "ipython",
    "version": 3
   },
   "file_extension": ".py",
   "mimetype": "text/x-python",
   "name": "python",
   "nbconvert_exporter": "python",
   "pygments_lexer": "ipython3",
   "version": "3.7.6"
  }
 },
 "nbformat": 4,
 "nbformat_minor": 4
}
